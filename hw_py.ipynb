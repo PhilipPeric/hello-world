{
 "cells": [
  {
   "cell_type": "code",
   "execution_count": 1,
   "metadata": {},
   "outputs": [
    {
     "name": "stdout",
     "output_type": "stream",
     "text": [
      "4\n",
      "2\n",
      "4\n",
      "3.872983346207417\n"
     ]
    }
   ],
   "source": [
    "a=input()\n",
    "b=input()\n",
    "c=input()\n",
    "\n",
    "if a=='' or b=='' or c=='' or int(a)<=0 or int(b)<=0 or int(c)<=0:\n",
    "    print('Треугольник не существует')\n",
    "else:\n",
    "    a=int(a)\n",
    "    b=int(b)\n",
    "    c=int(c)\n",
    "    p=(a+b+c)/2\n",
    "    s=(p*(p-a)*(p-b)*(p-c))**.5\n",
    "    print(s)"
   ]
  },
  {
   "cell_type": "code",
   "execution_count": 2,
   "metadata": {},
   "outputs": [
    {
     "name": "stdout",
     "output_type": "stream",
     "text": [
      "6\n",
      "[2, 3, 5]\n"
     ]
    }
   ],
   "source": [
    "begin = int(input())\n",
    "nums = []\n",
    "divs = 0\n",
    "for i in range(2, begin+1):\n",
    "    for j in range(2, i):\n",
    "        if i%j == 0:\n",
    "            divs +=1\n",
    "    if divs == 0:\n",
    "        nums.append(i)\n",
    "    else:\n",
    "        divs = 0\n",
    "        \n",
    "print(nums)"
   ]
  },
  {
   "cell_type": "code",
   "execution_count": 3,
   "metadata": {},
   "outputs": [
    {
     "name": "stdout",
     "output_type": "stream",
     "text": [
      "4\n",
      "[0]\n"
     ]
    }
   ],
   "source": [
    "begin = int(input())\n",
    "res = [i for i in range(begin+1) if i%5 == 0]\n",
    "print(res)"
   ]
  },
  {
   "cell_type": "code",
   "execution_count": 4,
   "metadata": {},
   "outputs": [
    {
     "name": "stdout",
     "output_type": "stream",
     "text": [
      "3\n",
      "2\n",
      "5\n",
      "Нет корней у квадратного уравнения\n"
     ]
    }
   ],
   "source": [
    "a=int(input())\n",
    "b=int(input())\n",
    "c=int(input())\n",
    "\n",
    "D = b**2 - 4*a*c\n",
    "if D>0:\n",
    "    x1 = (-b-D**.5)/2*a\n",
    "    x2 = (-b+D**.5)/2*a\n",
    "    print(x1)\n",
    "    print(x2)\n",
    "elif D == 0:\n",
    "    x1 = -b/(2*a)\n",
    "    print(x1)\n",
    "else:\n",
    "    print('Нет корней у квадратного уравнения')"
   ]
  },
  {
   "cell_type": "code",
   "execution_count": 5,
   "metadata": {},
   "outputs": [
    {
     "name": "stdout",
     "output_type": "stream",
     "text": [
      "Средняя сумма долга 633.5\n",
      "Абсолютный долг 6335\n",
      "Дисперсия 38629.65\n",
      "Имя с максимальным/минимальным долгом John/Bob\n",
      "Имя человека с долгом, который ближе всего по значению к среднему: Scott\n"
     ]
    }
   ],
   "source": [
    "import random\n",
    "import numpy as np\n",
    "\n",
    "names = ['Bob', 'John', 'Dan', 'Bill', 'Andrey', 'Phil', 'Scott', 'Jake', 'Misha', 'Sergey']\n",
    "debts = [random.randint(50, 1001) for i in range(10)]\n",
    "\n",
    "dictionary = dict(zip(names,debts))\n",
    "\n",
    "def fun(d):\n",
    "    mean_val = np.mean(list(d.values()))\n",
    "    debt_sum = sum(list(d.values()))\n",
    "    disp = np.var(list(d.values()))\n",
    "    mini = min(list(d.values()))\n",
    "    maxi = max(list(d.values()))\n",
    "    \n",
    "    for key, val in dictionary.items():\n",
    "        if val == mini:\n",
    "            min_key = key\n",
    "        elif val == maxi:\n",
    "            max_key = key\n",
    "\n",
    "    num = []        \n",
    "    diff = 1001        \n",
    "    for key, val in dictionary.items():\n",
    "        diff_sub = abs(val - mean_val)\n",
    "        if diff_sub<diff:\n",
    "            diff = diff_sub\n",
    "            num = []\n",
    "            num.append(key)\n",
    "        elif diff_sub == diff:\n",
    "            num.append(key)\n",
    "    if len(num) == 1:\n",
    "        num = num[0]\n",
    "\n",
    "\n",
    "    print('Средняя сумма долга {}'.format(mean_val))\n",
    "    print('Абсолютный долг {}'.format(debt_sum))\n",
    "    print('Дисперсия {}'.format(disp))\n",
    "    print('Имя с максимальным/минимальным долгом {}/{}'.format(max_key, min_key))\n",
    "    print('Имя человека с долгом, который ближе всего по значению к среднему: {}'.format(num))\n",
    "    \n",
    "fun(dictionary)"
   ]
  }
 ],
 "metadata": {
  "kernelspec": {
   "display_name": "Python 3",
   "language": "python",
   "name": "python3"
  },
  "language_info": {
   "codemirror_mode": {
    "name": "ipython",
    "version": 3
   },
   "file_extension": ".py",
   "mimetype": "text/x-python",
   "name": "python",
   "nbconvert_exporter": "python",
   "pygments_lexer": "ipython3",
   "version": "3.6.3"
  }
 },
 "nbformat": 4,
 "nbformat_minor": 2
}
