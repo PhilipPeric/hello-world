{
 "cells": [
  {
   "cell_type": "code",
   "execution_count": 1,
   "metadata": {},
   "outputs": [],
   "source": [
    "import pandas as pd\n",
    "\n",
    "file = r'''C:\\Users\\filip\\Downloads\\dataset_Facebook.csv'''\n",
    "df = pd.read_csv(file, sep = ';')\n",
    "\n",
    "all_mean = df.mean()\n",
    "all_mode = df.mode().iloc[0].transpose()\n",
    "all_min = df.min()\n",
    "all_max = df.max()\n",
    "all_median = df.median()\n",
    "\n",
    "df_1 = pd.concat([all_mean, all_mode, all_min, all_max, all_median], axis = 1)\n",
    "cols_1 = ['all_mean', 'all_mode', 'all_min', 'all_max', 'all_median']\n",
    "\n",
    "df_1.columns = cols_1 #<--mean, mode, min, max, median для всего массива\n",
    "\n",
    "for_type = df_1.loc['Type'] #<--mean, mode, min, max, median для колонки Type (тип данных str)\n",
    "for_like = df_1.loc['like'] #<--mean, mode, min, max, median для колонки like (тип данных float)\n",
    "for_comment = df_1.loc['comment'] #<--mean, mode, min, max, median для колонки comment (тип данных int)\n",
    "\n",
    "most_popular = df['Lifetime Post Consumers'].argmax() #<--индекс самого популярного объекта"
   ]
  }
 ],
 "metadata": {
  "kernelspec": {
   "display_name": "Python 3",
   "language": "python",
   "name": "python3"
  },
  "language_info": {
   "codemirror_mode": {
    "name": "ipython",
    "version": 3
   },
   "file_extension": ".py",
   "mimetype": "text/x-python",
   "name": "python",
   "nbconvert_exporter": "python",
   "pygments_lexer": "ipython3",
   "version": "3.6.3"
  }
 },
 "nbformat": 4,
 "nbformat_minor": 2
}
